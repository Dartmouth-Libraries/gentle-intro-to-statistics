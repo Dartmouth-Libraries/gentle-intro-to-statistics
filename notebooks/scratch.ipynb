{
 "cells": [
  {
   "cell_type": "code",
   "execution_count": null,
   "metadata": {},
   "outputs": [],
   "source": [
    "import random\n",
    "\n",
    "import matplotlib.pyplot as plt\n",
    "import pandas as pd\n",
    "import seaborn as sns\n",
    "\n",
    "n_sides = 6\n",
    "n_rolls = 10000\n",
    "n_dice = 2\n",
    "\n",
    "results = []\n",
    "for roll in range(n_rolls):\n",
    "    result = 0\n",
    "    for die in range(n_dice):\n",
    "        result += random.randint(1, n_sides)\n",
    "    results.append(result)\n",
    "\n",
    "fig, ax = plt.subplots(1,2, width_ratios=[1, 3])\n",
    "fig.set_size_inches(10, 5)\n",
    "\n",
    "sns.stripplot(results,\n",
    "              alpha=.1,\n",
    "              ax=ax[0])\n",
    "\n",
    "sns.histplot(results, \n",
    "             binwidth=1, \n",
    "             binrange=(n_dice-.5, n_dice*n_sides+.5),\n",
    "             alpha=1,\n",
    "             ax=ax[1]\n",
    ")\n",
    "plt.xlabel('Roll result')\n",
    "fig.tight_layout()"
   ]
  },
  {
   "cell_type": "code",
   "execution_count": null,
   "metadata": {},
   "outputs": [],
   "source": [
    "sns.histplot(results, \n",
    "             binwidth=1, \n",
    "             binrange=(n_dice-.5, n_dice*n_sides+.5),\n",
    "             alpha=1,\n",
    ")\n",
    "plt.xlabel('Roll result')\n",
    "plt.axvline(sum(results)/ len(results), linestyle='dashed', color='black')\n",
    "fig.tight_layout()"
   ]
  },
  {
   "cell_type": "code",
   "execution_count": null,
   "metadata": {},
   "outputs": [],
   "source": [
    "towns = pd.read_html('https://en.wikipedia.org/wiki/Local_government_in_the_United_States')[2]\n",
    "towns['Constituents per Councilmember'].hist()"
   ]
  },
  {
   "cell_type": "code",
   "execution_count": null,
   "metadata": {},
   "outputs": [],
   "source": [
    "df = pd.DataFrame.from_dict({\n",
    "    'style': ['Strawberry', 'Blueberry', 'Cherry', 'Lemon meringue', 'Chocolate', 'Sweet potato', 'Apple', 'Pecan', 'Pumpkin', 'Others'],\n",
    "    'share': [2, 3, 3, 4, 9, 10, 14, 17, 36, 2]\n",
    "})\n",
    "df.set_index('style').plot.pie(subplots=True, autopct='%.0f%%', legend=False)\n",
    "plt.ylabel('')\n",
    "plt.savefig('pie.svg')"
   ]
  },
  {
   "cell_type": "code",
   "execution_count": null,
   "metadata": {},
   "outputs": [],
   "source": [
    "sns.set_style(\"whitegrid\")\n",
    "sns.barplot(data=df, y='style', x='share')\n",
    "\n",
    "plt.ylabel('')\n",
    "plt.savefig('bar.svg')"
   ]
  },
  {
   "cell_type": "code",
   "execution_count": null,
   "metadata": {},
   "outputs": [],
   "source": [
    "df = pd.read_csv('SAT Report 2015-2016.csv', index_col='index', na_values='*')"
   ]
  },
  {
   "cell_type": "code",
   "execution_count": null,
   "metadata": {},
   "outputs": [],
   "source": [
    "sns.displot(data=df, x='AvgScrMath')"
   ]
  },
  {
   "cell_type": "code",
   "execution_count": null,
   "metadata": {},
   "outputs": [],
   "source": [
    "penguins = sns.load_dataset(\"penguins\")\n",
    "penguins"
   ]
  },
  {
   "cell_type": "code",
   "execution_count": null,
   "metadata": {},
   "outputs": [],
   "source": [
    "sns.displot(data=penguins, x=\"flipper_length_mm\", hue=\"species\", col=\"sex\", kind=\"kde\")"
   ]
  },
  {
   "cell_type": "code",
   "execution_count": null,
   "metadata": {},
   "outputs": [],
   "source": [
    "sns.displot(data=penguins, y=\"flipper_length_mm\", hue=\"species\", col=\"sex\", kind=\"ecdf\")\n",
    "plt.xticks([0.0, .25, .5, .75, 1.]);"
   ]
  },
  {
   "cell_type": "code",
   "execution_count": null,
   "metadata": {},
   "outputs": [],
   "source": [
    "sns.displot(data=penguins, x=\"flipper_length_mm\", hue=\"species\", kind=\"kde\")\n",
    "plt.vlines(penguins.groupby(by='species')['flipper_length_mm'].mean(), \n",
    "           ymin=0, \n",
    "           ymax=0.028,\n",
    "           linestyles='dashed',\n",
    "           colors=[ax.get_color() for ax in plt.gca().lines[::-1]])\n"
   ]
  },
  {
   "cell_type": "code",
   "execution_count": null,
   "metadata": {},
   "outputs": [],
   "source": [
    "diamonds = sns.load_dataset('diamonds')\n",
    "sns.displot(diamonds, x='price')\n",
    "plt.xlabel('Sale price')\n",
    "\n",
    "plt.vlines(diamonds.price.mean(), \n",
    "           ymin=0, \n",
    "           ymax=6500,\n",
    "           linestyles='dashed')\n",
    "\n",
    "plt.vlines(diamonds.price.median(), \n",
    "           ymin=0, \n",
    "           ymax=6500,\n",
    "           linestyles='dashed')"
   ]
  },
  {
   "cell_type": "code",
   "execution_count": null,
   "metadata": {},
   "outputs": [],
   "source": [
    "adelie = penguins.query('species==\"Adelie\"')\n",
    "sns.stripplot(data=adelie, x=\"flipper_length_mm\")\n",
    "plt.xlabel('Flipper length [mm]');"
   ]
  },
  {
   "cell_type": "code",
   "execution_count": null,
   "metadata": {},
   "outputs": [],
   "source": [
    "sns.displot(data=adelie, x=\"flipper_length_mm\")\n",
    "plt.xlabel('Flipper length [mm]');"
   ]
  },
  {
   "cell_type": "code",
   "execution_count": null,
   "metadata": {},
   "outputs": [],
   "source": [
    "adelie.flipper_length_mm.describe()"
   ]
  },
  {
   "cell_type": "code",
   "execution_count": null,
   "metadata": {},
   "outputs": [],
   "source": [
    "195-186"
   ]
  },
  {
   "cell_type": "code",
   "execution_count": null,
   "metadata": {},
   "outputs": [],
   "source": [
    "adelie.flipper_length_mm.mean()"
   ]
  },
  {
   "cell_type": "code",
   "execution_count": null,
   "metadata": {},
   "outputs": [],
   "source": [
    "adelie.flipper_length_mm.median()"
   ]
  },
  {
   "cell_type": "code",
   "execution_count": null,
   "metadata": {},
   "outputs": [],
   "source": [
    "adelie.flipper_length_mm.mean() + adelie.flipper_length_mm.std()"
   ]
  },
  {
   "cell_type": "code",
   "execution_count": null,
   "metadata": {},
   "outputs": [],
   "source": [
    "adelie.flipper_length_mm.var()"
   ]
  },
  {
   "cell_type": "code",
   "execution_count": null,
   "metadata": {},
   "outputs": [],
   "source": [
    "sns.displot(data=adelie, x=\"flipper_length_mm\", y=\"bill_length_mm\", kind=\"kde\", rug=True)\n",
    "plt.xlabel(\"Flipper length [mm]\")\n",
    "plt.ylabel(\"Bill length [mm]\");"
   ]
  },
  {
   "cell_type": "code",
   "execution_count": null,
   "metadata": {},
   "outputs": [],
   "source": [
    "sns.scatterplot(adelie, x='flipper_length_mm', y='bill_length_mm')"
   ]
  },
  {
   "cell_type": "code",
   "execution_count": null,
   "metadata": {},
   "outputs": [],
   "source": [
    "from scipy.stats import ttest_ind\n",
    "\n",
    "chinstrap = penguins.query('species == \"Chinstrap\"')\n",
    "\n",
    "ttest_ind(adelie.flipper_length_mm.dropna(), chinstrap.flipper_length_mm.dropna())"
   ]
  },
  {
   "cell_type": "code",
   "execution_count": null,
   "metadata": {},
   "outputs": [],
   "source": [
    "sns.displot(penguins.query('species in [\"Adelie\", \"Chinstrap\"]'), x='flipper_length_mm', hue='species')\n",
    "plt.vlines(penguins.query('species in [\"Adelie\", \"Chinstrap\"]').groupby(by='species')['flipper_length_mm'].mean(), \n",
    "           ymin=0, \n",
    "           ymax=30,\n",
    "           linestyles='dashed',\n",
    "           colors=[\n",
    "               (*plt.gca().containers[1].patches[0]._facecolor[:3], 1.0),\n",
    "               (*plt.gca().containers[0].patches[0]._facecolor[:3], 1.0)\n",
    "           ])\n",
    "plt.xlabel(\"Flipper length [mm]\");"
   ]
  }
 ],
 "metadata": {
  "kernelspec": {
   "display_name": "Python 3",
   "language": "python",
   "name": "python3"
  },
  "language_info": {
   "codemirror_mode": {
    "name": "ipython",
    "version": 3
   },
   "file_extension": ".py",
   "mimetype": "text/x-python",
   "name": "python",
   "nbconvert_exporter": "python",
   "pygments_lexer": "ipython3",
   "version": "3.10.8"
  },
  "orig_nbformat": 4
 },
 "nbformat": 4,
 "nbformat_minor": 2
}
